{
 "cells": [
  {
   "cell_type": "markdown",
   "metadata": {},
   "source": [
    "# Chapter 1: Introduction to Vectors\n"
   ]
  },
  {
   "cell_type": "markdown",
   "metadata": {},
   "source": [
    "The heart of linear algebra lies in two operations:\n",
    "1. Sum\n",
    "2. Product\n",
    "\n",
    "Let there be two vectors $\\mathbf{x}$ and $\\mathbf{y}$\n",
    "\n",
    "We can add them:\n",
    " $\\mathbf{x} + \\mathbf{y}$\n",
    "\n",
    "Let there be two constants $c$ and $d$<br> \n",
    "We can multiply each vector by each constant to get: $c\\mathbf{x} $ and $d\\mathbf{y}$<br>\n",
    "A linear combination is the combination of the two operations: $c\\mathbf{x} + d\\mathbf{y}$\n",
    "\n",
    "\n"
   ]
  },
  {
   "cell_type": "code",
   "execution_count": null,
   "metadata": {},
   "outputs": [],
   "source": [
    "import pandas as pd\n",
    "import numpy as np"
   ]
  },
  {
   "cell_type": "code",
   "execution_count": 2,
   "metadata": {},
   "outputs": [
    {
     "name": "stdout",
     "output_type": "stream",
     "text": [
      "Its working\n"
     ]
    }
   ],
   "source": []
  }
 ],
 "metadata": {
  "kernelspec": {
   "display_name": "Python 3",
   "language": "python",
   "name": "python3"
  },
  "language_info": {
   "codemirror_mode": {
    "name": "ipython",
    "version": 3
   },
   "file_extension": ".py",
   "mimetype": "text/x-python",
   "name": "python",
   "nbconvert_exporter": "python",
   "pygments_lexer": "ipython3",
   "version": "3.9.13"
  }
 },
 "nbformat": 4,
 "nbformat_minor": 2
}
